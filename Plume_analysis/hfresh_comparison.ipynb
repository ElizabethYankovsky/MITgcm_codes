{
 "cells": [
  {
   "cell_type": "code",
   "execution_count": 1,
   "metadata": {},
   "outputs": [
    {
     "name": "stdout",
     "output_type": "stream",
     "text": [
      "Once deleted, variables cannot be recovered. Proceed (y/[n])? y\n"
     ]
    }
   ],
   "source": [
    "%reset\n",
    "%matplotlib inline"
   ]
  },
  {
   "cell_type": "code",
   "execution_count": 2,
   "metadata": {},
   "outputs": [],
   "source": [
    "import numpy as np\n",
    "import scipy.io as sio\n",
    "import netCDF4 as nc\n",
    "import glob, os\n",
    "import matplotlib.pyplot as plt\n",
    "import matplotlib.animation as animation\n",
    "from IPython.display import HTML\n",
    "import matplotlib\n",
    "matplotlib.rcParams['animation.embed_limit'] =10000000000000000000000000.0\n",
    "import cmocean"
   ]
  },
  {
   "cell_type": "code",
   "execution_count": 3,
   "metadata": {},
   "outputs": [
    {
     "data": {
      "text/plain": [
       "'/work0/eay/MITgcm_data'"
      ]
     },
     "execution_count": 3,
     "metadata": {},
     "output_type": "execute_result"
    }
   ],
   "source": [
    "%pwd"
   ]
  },
  {
   "cell_type": "code",
   "execution_count": 4,
   "metadata": {},
   "outputs": [
    {
     "name": "stdout",
     "output_type": "stream",
     "text": [
      "/work0/eay/MITgcm_data/Experiment18\n",
      "(150,)\n",
      "(1000, 600)\n",
      "(1000, 600)\n",
      "/work0/eay/MITgcm_data\n"
     ]
    }
   ],
   "source": [
    "%cd /work0/eay/MITgcm_data/Experiment18/\n",
    "file0 = nc.Dataset('Temp.nc')\n",
    "file1 = nc.Dataset('Salt.nc')\n",
    "file2 = nc.Dataset('U.nc')\n",
    "file3 = nc.Dataset('V.nc')\n",
    "NX = 600\n",
    "NY = 1000\n",
    "NZ = 120\n",
    "\n",
    "xq = (file1.variables['X'][:])\n",
    "yq = (file1.variables['Y'][:])\n",
    "zl = (file1.variables['Z'][:])\n",
    "Time = file1.variables['T'][:]\n",
    "print(Time.shape)\n",
    "\n",
    "xqmat=np.tile(xq,(NY,1))\n",
    "yqmat=np.tile(yq,(NX,1))\n",
    "yqmat=np.transpose(yqmat)\n",
    "print(yqmat.shape)\n",
    "print(xqmat.shape)\n",
    "%cd /work0/eay/MITgcm_data/"
   ]
  },
  {
   "cell_type": "code",
   "execution_count": null,
   "metadata": {},
   "outputs": [],
   "source": []
  },
  {
   "cell_type": "code",
   "execution_count": 8,
   "metadata": {},
   "outputs": [
    {
     "data": {
      "text/plain": [
       "(600,)"
      ]
     },
     "execution_count": 8,
     "metadata": {},
     "output_type": "execute_result"
    }
   ],
   "source": [
    "\n",
    "index = 149\n",
    "\n",
    "\n",
    "#Plotting freshwater layer\n",
    "mask = file1.variables['S'][0,0,:,:]\n",
    "newmask = file1.variables['S'][0,:,:,:]\n",
    "\n",
    "Salt = file1.variables['S'][index,:,:,:]; Salt[newmask==0]=np.nan\n",
    "Sref = Salt*0.0+34.0\n",
    "hf=0.1*np.nansum((Sref-Salt)/34.0,axis=0)\n",
    "#hf[(mask==0)]=-10000000\n",
    "\n",
    "hf[(mask==0)]=np.nan\n",
    "hf_alongshore = np.nansum(hf*100,axis=0) #100m grid spacing\n",
    "hf_alongshore.shape\n"
   ]
  },
  {
   "cell_type": "code",
   "execution_count": 9,
   "metadata": {},
   "outputs": [
    {
     "name": "stdout",
     "output_type": "stream",
     "text": [
      "done\n"
     ]
    }
   ],
   "source": [
    "xq18 = xq;\n",
    "hf18_alongshore = hf_alongshore\n",
    "print('done')"
   ]
  },
  {
   "cell_type": "code",
   "execution_count": 10,
   "metadata": {},
   "outputs": [
    {
     "data": {
      "image/png": "[encoded data removed]",
      "text/plain": [
       "<Figure size 720x240 with 1 Axes>"
      ]
     },
     "metadata": {},
     "output_type": "display_data"
    }
   ],
   "source": [
    "\n",
    "fig = plt.figure(figsize=(9, 3), dpi= 80, facecolor='w', edgecolor='k')\n",
    "ax1 = fig.add_axes([0.15,0.1,0.7,0.7])  #left pos. bottom pos. width, height #ax1 = fig.add_subplot(111)\n",
    "\n",
    "\n",
    "#ax1.plot(xq7/1000,hf7_alongshore,linewidth=3,color = 'k')\n",
    "#ax1.plot(xq11/1000,hf11_alongshore,linewidth=3,color ='#ff5050')\n",
    "#ax1.plot(xq17/1000,hf17_alongshore,linewidth=3,color='#ff9933')\n",
    "ax1.plot(xq18/1000,hf18_alongshore,linewidth=3,color='#009999')\n",
    "ax1.set_title('Alongshore integrated $h_f$, day=%04.2f ' %(index/48.), fontsize=14)\n",
    "ax1.set_xlabel('$x$ [km]',fontsize=16)\n",
    "ax1.set_ylabel('$m^2$',fontsize=16)\n",
    "ax1.set_xlim([0,60]);ax1.set_ylim([0,12000])\n",
    "ax1.legend(['Reference case','No wind','Subcritical inflow','Strong wind'])\n",
    "plt.grid()\n"
   ]
  },
  {
   "cell_type": "code",
   "execution_count": 15,
   "metadata": {},
   "outputs": [
    {
     "data": {
      "text/plain": [
       "(600, 5)"
      ]
     },
     "execution_count": 15,
     "metadata": {},
     "output_type": "execute_result"
    }
   ],
   "source": [
    "a = np.zeros((600,5)); a[:,:]=np.nan\n",
    "a.shape"
   ]
  },
  {
   "cell_type": "code",
   "execution_count": 16,
   "metadata": {},
   "outputs": [
    {
     "data": {
      "text/plain": [
       "array([[nan, nan, nan, nan, nan],\n",
       "       [nan, nan, nan, nan, nan],\n",
       "       [nan, nan, nan, nan, nan],\n",
       "       ...,\n",
       "       [nan, nan, nan, nan, nan],\n",
       "       [nan, nan, nan, nan, nan],\n",
       "       [nan, nan, nan, nan, nan]])"
      ]
     },
     "execution_count": 16,
     "metadata": {},
     "output_type": "execute_result"
    }
   ],
   "source": [
    "a"
   ]
  },
  {
   "cell_type": "code",
   "execution_count": null,
   "metadata": {},
   "outputs": [],
   "source": []
  },
  {
   "cell_type": "code",
   "execution_count": null,
   "metadata": {},
   "outputs": [],
   "source": []
  },
  {
   "cell_type": "code",
   "execution_count": null,
   "metadata": {},
   "outputs": [],
   "source": []
  },
  {
   "cell_type": "code",
   "execution_count": null,
   "metadata": {},
   "outputs": [],
   "source": []
  },
  {
   "cell_type": "code",
   "execution_count": null,
   "metadata": {},
   "outputs": [],
   "source": []
  },
  {
   "cell_type": "code",
   "execution_count": null,
   "metadata": {},
   "outputs": [],
   "source": []
  },
  {
   "cell_type": "code",
   "execution_count": null,
   "metadata": {},
   "outputs": [],
   "source": []
  },
  {
   "cell_type": "code",
   "execution_count": null,
   "metadata": {
    "collapsed": true
   },
   "outputs": [],
   "source": []
  },
  {
   "cell_type": "code",
   "execution_count": null,
   "metadata": {
    "collapsed": true
   },
   "outputs": [],
   "source": []
  }
 ],
 "metadata": {
  "kernelspec": {
   "display_name": "Python 3",
   "language": "python",
   "name": "python3"
  },
  "language_info": {
   "codemirror_mode": {
    "name": "ipython",
    "version": 3
   },
   "file_extension": ".py",
   "mimetype": "text/x-python",
   "name": "python",
   "nbconvert_exporter": "python",
   "pygments_lexer": "ipython3",
   "version": "3.7.4"
  }
 },
 "nbformat": 4,
 "nbformat_minor": 2
}
