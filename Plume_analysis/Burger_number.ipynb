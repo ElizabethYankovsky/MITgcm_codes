{
 "cells": [
  {
   "cell_type": "code",
   "execution_count": 214,
   "metadata": {},
   "outputs": [
    {
     "name": "stdout",
     "output_type": "stream",
     "text": [
      "Once deleted, variables cannot be recovered. Proceed (y/[n])? y\n"
     ]
    }
   ],
   "source": [
    "%reset\n",
    "%matplotlib inline"
   ]
  },
  {
   "cell_type": "code",
   "execution_count": 215,
   "metadata": {},
   "outputs": [],
   "source": [
    "import numpy as np\n",
    "import scipy.io as sio\n",
    "import netCDF4 as nc\n",
    "import glob, os\n",
    "import matplotlib.pyplot as plt\n",
    "import matplotlib.animation as animation\n",
    "from IPython.display import HTML\n",
    "import matplotlib\n",
    "matplotlib.rcParams['animation.embed_limit'] =10000000000000000000000000.0\n",
    "import cmocean\n",
    "import xarray as xr"
   ]
  },
  {
   "cell_type": "code",
   "execution_count": 268,
   "metadata": {},
   "outputs": [
    {
     "name": "stdout",
     "output_type": "stream",
     "text": [
      "/work2/eay/MITgcm_data/Experiment22\n",
      ".cshrc: No such file or directory.\n",
      "Analysis.ipynb  Eta.nc   Salt.nc  Videofresh.gif     video-xy.ipynb  W.nc\n",
      "data            grid.nc  Temp.nc  VideoSalt.gif      video-xz.ipynb\n",
      "data.obcs       readme   U.nc     VideoVelocity.gif  V.nc\n",
      "/work2/eay/MITgcm_data\n"
     ]
    }
   ],
   "source": [
    "%cd /work/eay/MITgcm_data/Experiment22/\n",
    "%ls\n",
    "file1 = xr.open_dataset('Salt.nc')\n",
    "\n",
    "# NX = 600\n",
    "# NY = 1000\n",
    "# NZ = 120\n",
    "\n",
    "# xq = file1['X']\n",
    "# yq = file1['Y']\n",
    "# zl = file1['Z']\n",
    "# Time = file1['T']\n",
    "# print(Time.shape)\n",
    "\n",
    "\n",
    "%cd /work/eay/MITgcm_data/"
   ]
  },
  {
   "cell_type": "code",
   "execution_count": 269,
   "metadata": {},
   "outputs": [],
   "source": [
    "import sys\n",
    "import numpy as np\n",
    "\n",
    "__doc__ = \"\"\"\n",
    "Density of Sea Water using McDougall et al. 2003 (JAOT 20) polynomial\n",
    "\"\"\"\n",
    "# coefficients nonlinear equation of state in pressure coordinates for\n",
    "eosMDJWFnum =  [ 7.35212840e+00,\n",
    "                -5.45928211e-02,\n",
    "                 3.98476704e-04,\n",
    "                 2.96938239e+00,\n",
    "                -7.23268813e-03,\n",
    "                 2.12382341e-03,\n",
    "                 1.04004591e-02,\n",
    "                 1.03970529e-07,\n",
    "                 5.18761880e-06,\n",
    "                -3.24041825e-08,\n",
    "                -1.23869360e-11,\n",
    "                 9.99843699e+02 ]\n",
    "eosMDJWFden =  [ 7.28606739e-03,\n",
    "                -4.60835542e-05,\n",
    "                 3.68390573e-07,\n",
    "                 1.80809186e-10,\n",
    "                 2.14691708e-03,\n",
    "                -9.27062484e-06,\n",
    "                -1.78343643e-10,\n",
    "                 4.76534122e-06,\n",
    "                 1.63410736e-09,\n",
    "                 5.30848875e-06,\n",
    "                -3.03175128e-16,\n",
    "                -1.27934137e-17,\n",
    "                 1.00000000e+00 ]\n",
    "def densmdjwf(s,theta,p):\n",
    "    \"\"\"\n",
    "    Computes in-situ density of sea water\n",
    "    Density of Sea Water using McDougall et al. 2003 (JAOT 20)\n",
    "    polynomial (Gibbs Potential).\n",
    "\n",
    "    Parameters\n",
    "    ----------\n",
    "    s : array_like\n",
    "        salinity [psu (PSS-78)]\n",
    "    theta : array_like\n",
    "        potential temperature [degree C (IPTS-68)];\n",
    "        same shape as s\n",
    "    p : array_like\n",
    "        pressure [dbar]; broadcastable to shape of s\n",
    "\n",
    "    Returns\n",
    "    -------\n",
    "    dens : array\n",
    "        density [kg/m^3]\n",
    "\n",
    "    Example\n",
    "    -------\n",
    "    >>> densmdjwf(35., 25., 2000.)\n",
    "    1031.654229\n",
    "\n",
    "    Notes\n",
    "    -----\n",
    "    AUTHOR:  Martin Losch 2002-08-09  (Martin.Losch@awi.de)\n",
    "\n",
    "    McDougall et al., 2003, JAOT 20(5), pp. 730-741\n",
    "    \"\"\"\n",
    "    \n",
    "    # make sure arguments are floating point\n",
    "    s = np.asfarray(s)\n",
    "    t = np.asfarray(theta)\n",
    "    p = np.asfarray(p)\n",
    "\n",
    "    p1 = np.copy(p);\n",
    "    \n",
    "    t1 = np.copy(t);\n",
    "    t2 = t*t;\n",
    "    \n",
    "    s1 = np.copy(s);\n",
    "    if np.any(s1<0):\n",
    "        sys.stderr.write('negative salinity values! setting to nan\\n')\n",
    "        # # the sqrt will take care of this\n",
    "        # if s.ndim > 0:\n",
    "        #     s[s<0] = np.nan\n",
    "        # else:\n",
    "        #     s = np.nan\n",
    "    sp5 = np.sqrt(s1)\n",
    "    p1t1=p1*t1\n",
    "    num = ( eosMDJWFnum[11] \n",
    "            + t1*(eosMDJWFnum[0]\n",
    "                  + t1*(eosMDJWFnum[1] + eosMDJWFnum[2]*t1) )\n",
    "            + s1*(eosMDJWFnum[3]\n",
    "                  + eosMDJWFnum[4]*t1  + eosMDJWFnum[5]*s1)\n",
    "            + p1*(eosMDJWFnum[6] + eosMDJWFnum[7]*t2\n",
    "                  + eosMDJWFnum[8]*s1\n",
    "                  + p1*(eosMDJWFnum[9] + eosMDJWFnum[10]*t2) )\n",
    "    )\n",
    "    den = ( eosMDJWFden[12]\n",
    "            + t1*(eosMDJWFden[0]\n",
    "                  + t1*(eosMDJWFden[1]\n",
    "                        + t1*(eosMDJWFden[2] + t1*eosMDJWFden[3] ) ) )\n",
    "            + s1*(eosMDJWFden[4]\n",
    "                  + t1*(eosMDJWFden[5]\n",
    "                        + eosMDJWFden[6]*t2)\n",
    "                  + sp5*(eosMDJWFden[7] + eosMDJWFden[8]*t2) )\n",
    "            + p1*(eosMDJWFden[9]\n",
    "                  + p1t1*(eosMDJWFden[10]*t2 + eosMDJWFden[11]*p1) )\n",
    "    )\n",
    "    epsln = 0\n",
    "    denom = 1.0/(epsln+den)\n",
    "    rho = num*denom;\n",
    "\n",
    "    return rho\n",
    "# aliases\n",
    "dens = densmdjwf"
   ]
  },
  {
   "cell_type": "code",
   "execution_count": 270,
   "metadata": {},
   "outputs": [
    {
     "name": "stdout",
     "output_type": "stream",
     "text": [
      "1025.2031586387247 MDJWF @ 34psu, 15C\n"
     ]
    }
   ],
   "source": [
    "print(densmdjwf(34., 15., 0.),'MDJWF @ 34psu, 15C')\n"
   ]
  },
  {
   "cell_type": "code",
   "execution_count": 271,
   "metadata": {},
   "outputs": [
    {
     "name": "stdout",
     "output_type": "stream",
     "text": [
      "done 1\n",
      "(1000,)\n",
      "7.54961371421814\n"
     ]
    }
   ],
   "source": [
    "x_i = 100  #667 for high res case\n",
    "index = 149\n",
    "\n",
    "\n",
    "#Computing freshwater layer\n",
    "Salt_h = file1['S'][index-25:index,:,:,x_i]; Salt_h = Salt_h.where(Salt_h >0)\n",
    "Sref = Salt_h*0.0+34.0\n",
    "print('done 1')\n",
    "hf=(0.1*((Sref-Salt_h)/34.0).sum(axis=1)).mean(axis=0)\n",
    "#hf=np.nanmean(0.1*np.nansum((Sref-Salt_h)/34.0,axis=1),axis=0)\n",
    "\n",
    "print(hf.shape)\n",
    "drho= densmdjwf(34.,15.,0)-densmdjwf(0.,15.,0);\n",
    "rho_o=densmdjwf(34.,15.,0);\n",
    "\n",
    "C_int=np.sqrt(9.81*drho*hf/rho_o)\n",
    "\n",
    "C_int_max = np.nanmax(C_int)\n",
    "f = 8e-5\n",
    "W = 1000\n",
    "Bu = C_int_max/(f*W)\n",
    "print(Bu)\n"
   ]
  },
  {
   "cell_type": "code",
   "execution_count": 267,
   "metadata": {},
   "outputs": [
    {
     "data": {
      "text/plain": [
       "7.873333333333334"
      ]
     },
     "execution_count": 267,
     "metadata": {},
     "output_type": "execute_result"
    }
   ],
   "source": []
  },
  {
   "cell_type": "code",
   "execution_count": null,
   "metadata": {},
   "outputs": [],
   "source": []
  },
  {
   "cell_type": "code",
   "execution_count": null,
   "metadata": {},
   "outputs": [],
   "source": []
  },
  {
   "cell_type": "code",
   "execution_count": null,
   "metadata": {},
   "outputs": [],
   "source": []
  },
  {
   "cell_type": "code",
   "execution_count": null,
   "metadata": {},
   "outputs": [],
   "source": []
  },
  {
   "cell_type": "code",
   "execution_count": null,
   "metadata": {},
   "outputs": [],
   "source": []
  },
  {
   "cell_type": "code",
   "execution_count": null,
   "metadata": {},
   "outputs": [],
   "source": []
  },
  {
   "cell_type": "code",
   "execution_count": null,
   "metadata": {},
   "outputs": [],
   "source": []
  },
  {
   "cell_type": "code",
   "execution_count": null,
   "metadata": {},
   "outputs": [],
   "source": []
  },
  {
   "cell_type": "code",
   "execution_count": null,
   "metadata": {},
   "outputs": [],
   "source": []
  },
  {
   "cell_type": "code",
   "execution_count": null,
   "metadata": {
    "collapsed": true
   },
   "outputs": [],
   "source": []
  },
  {
   "cell_type": "code",
   "execution_count": null,
   "metadata": {
    "collapsed": true
   },
   "outputs": [],
   "source": []
  }
 ],
 "metadata": {
  "kernelspec": {
   "display_name": "Python 3",
   "language": "python",
   "name": "python3"
  },
  "language_info": {
   "codemirror_mode": {
    "name": "ipython",
    "version": 3
   },
   "file_extension": ".py",
   "mimetype": "text/x-python",
   "name": "python",
   "nbconvert_exporter": "python",
   "pygments_lexer": "ipython3",
   "version": "3.9.12"
  }
 },
 "nbformat": 4,
 "nbformat_minor": 2
}
