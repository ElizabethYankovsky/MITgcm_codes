{
 "cells": [
  {
   "cell_type": "code",
   "execution_count": 11,
   "metadata": {
    "collapsed": false
   },
   "outputs": [
    {
     "name": "stdout",
     "output_type": "stream",
     "text": [
      "Once deleted, variables cannot be recovered. Proceed (y/[n])? y\n"
     ]
    }
   ],
   "source": [
    "%reset\n",
    "%matplotlib inline"
   ]
  },
  {
   "cell_type": "code",
   "execution_count": 12,
   "metadata": {
    "collapsed": false
   },
   "outputs": [],
   "source": [
    "import numpy as np\n",
    "import scipy.io as sio\n",
    "import netCDF4 as nc\n",
    "import glob, os\n",
    "import matplotlib\n",
    "import matplotlib.pyplot as plt\n",
    "import matplotlib.animation as animation\n",
    "from IPython.display import HTML\n",
    "import matplotlib.colors as mcolors\n",
    "import xarray as xr\n",
    "\n",
    "#Creating red colormap\n",
    "colors = plt.cm.Reds(np.linspace(0, 1, 256))\n",
    "colors[0,:]=(1.0, 1.0, 1.0, 1.0)\n",
    "Red = mcolors.LinearSegmentedColormap.from_list('colormap', colors)\n"
   ]
  },
  {
   "cell_type": "code",
   "execution_count": 13,
   "metadata": {
    "collapsed": false
   },
   "outputs": [
    {
     "name": "stdout",
     "output_type": "stream",
     "text": [
      "(256, 4)\n"
     ]
    }
   ],
   "source": [
    "print(colors.shape)"
   ]
  },
  {
   "cell_type": "code",
   "execution_count": 14,
   "metadata": {
    "collapsed": false
   },
   "outputs": [
    {
     "name": "stdout",
     "output_type": "stream",
     "text": [
      "<xarray.Dataset>\n",
      "Dimensions:  (T: 243, X: 2560, Xp1: 2561, Y: 1, Yp1: 2, Z: 480, Zl: 480)\n",
      "Coordinates:\n",
      "  * Xp1      (Xp1) float64 7.105e-15 28.12 56.24 ... 7.496e+04 7.499e+04\n",
      "  * Y        (Y) float64 10.0\n",
      "  * Z        (Z) float64 -1.649 -4.948 -8.247 ... -2.472e+03 -2.483e+03\n",
      "  * X        (X) float64 14.06 42.18 70.3 ... 7.491e+04 7.494e+04 7.498e+04\n",
      "  * Yp1      (Yp1) float64 0.0 20.0\n",
      "  * Zl       (Zl) float64 0.0 -3.299 -6.597 ... -2.456e+03 -2.467e+03 -2.478e+03\n",
      "  * T        (T) float64 0.0 2.16e+04 4.32e+04 ... 5.141e+06 5.162e+06 5.184e+06\n",
      "Data variables:\n",
      "    iter     (T) int32 dask.array<shape=(243,), chunksize=(81,)>\n",
      "    U        (T, Z, Y, Xp1) float32 dask.array<shape=(243, 480, 1, 2561), chunksize=(81, 480, 1, 2561)>\n",
      "    V        (T, Z, Yp1, X) float32 dask.array<shape=(243, 480, 2, 2560), chunksize=(81, 480, 2, 2560)>\n",
      "    Temp     (T, Z, Y, X) float32 dask.array<shape=(243, 480, 1, 2560), chunksize=(81, 480, 1, 2560)>\n",
      "    S        (T, Z, Y, X) float32 dask.array<shape=(243, 480, 1, 2560), chunksize=(81, 480, 1, 2560)>\n",
      "    Eta      (T, Y, X) float32 dask.array<shape=(243, 1, 2560), chunksize=(81, 1, 2560)>\n",
      "    W        (T, Zl, Y, X) float32 dask.array<shape=(243, 480, 1, 2560), chunksize=(81, 480, 1, 2560)>\n",
      "    phi_nh   (T, Z, Y, X) float32 dask.array<shape=(243, 480, 1, 2560), chunksize=(81, 480, 1, 2560)>\n",
      "Attributes:\n",
      "    MITgcm_version:  checkpoint65t\n",
      "    build_user:      Elizabeth.Yankovsky\n",
      "    build_host:      gaea12\n",
      "    build_date:      Sun Jul  8 14:36:44 EDT 2018\n",
      "    MITgcm_URL:      http://mitgcm.org\n",
      "    MITgcm_tag_id:   1.2234 2016/02/11\n",
      "    MITgcm_mnc_ver:  0.9\n",
      "    sNx:             20\n",
      "    sNy:             1\n",
      "    OLx:             3\n",
      "    OLy:             3\n",
      "    nSx:             1\n",
      "    nSy:             1\n",
      "    nPx:             128\n",
      "    nPy:             1\n",
      "    Nx:              2560\n",
      "    Ny:              1\n",
      "    Nr:              480\n",
      "<xarray.Dataset>\n",
      "Dimensions:  (T: 243, X: 2560, Y: 1, Z: 480)\n",
      "Coordinates:\n",
      "  * X        (X) float64 14.06 42.18 70.3 ... 7.491e+04 7.494e+04 7.498e+04\n",
      "  * Y        (Y) float64 10.0\n",
      "  * Z        (Z) float64 -1.649 -4.948 -8.247 ... -2.472e+03 -2.483e+03\n",
      "  * T        (T) float64 0.0 2.16e+04 4.32e+04 ... 5.141e+06 5.162e+06 5.184e+06\n",
      "Data variables:\n",
      "    iter     (T) int32 dask.array<shape=(243,), chunksize=(81,)>\n",
      "    tracer   (T, Z, Y, X) float32 dask.array<shape=(243, 480, 1, 2560), chunksize=(81, 480, 1, 2560)>\n",
      "Attributes:\n",
      "    MITgcm_version:  checkpoint65t\n",
      "    build_user:      Elizabeth.Yankovsky\n",
      "    build_host:      gaea12\n",
      "    build_date:      Sun Jul  8 14:36:44 EDT 2018\n",
      "    MITgcm_URL:      http://mitgcm.org\n",
      "    MITgcm_tag_id:   1.2234 2016/02/11\n",
      "    MITgcm_mnc_ver:  0.9\n",
      "    sNx:             20\n",
      "    sNy:             1\n",
      "    OLx:             3\n",
      "    OLy:             3\n",
      "    nSx:             1\n",
      "    nSy:             1\n",
      "    nPx:             128\n",
      "    nPy:             1\n",
      "    Nx:              2560\n",
      "    Ny:              1\n",
      "    Nr:              480\n"
     ]
    }
   ],
   "source": [
    "ds = xr.open_mfdataset(['state1.nc','state2.nc','state3.nc'])\n",
    "tr = xr.open_mfdataset(['tracer1.nc','tracer2.nc','tracer3.nc'])\n",
    "#ds = xr.open_mfdataset('state10m.nc')\n",
    "#tr = xr.open_mfdataset('tracer10m.nc')\n",
    "print(ds)\n",
    "print(tr)\n"
   ]
  },
  {
   "cell_type": "code",
   "execution_count": 15,
   "metadata": {
    "collapsed": false
   },
   "outputs": [],
   "source": [
    "xq=ds['X']\n",
    "zl=ds['Zl']\n",
    "tracer = np.squeeze(tr.tracer)\n",
    "salt = np.squeeze(ds.S)\n",
    "temp = np.squeeze(ds.Temp)\n",
    "u = np.squeeze(ds.U)\n",
    "v = np.squeeze(ds.V[:,:,0,:])\n",
    "w = np.squeeze(ds.W)\n",
    "\n",
    "#Creating topography mask\n",
    "mask=np.array(salt[0,:,:]); mask[mask>0]=np.nan; mask[mask==0]=1.0"
   ]
  },
  {
   "cell_type": "code",
   "execution_count": null,
   "metadata": {
    "collapsed": false
   },
   "outputs": [],
   "source": []
  },
  {
   "cell_type": "code",
   "execution_count": 16,
   "metadata": {
    "collapsed": false
   },
   "outputs": [],
   "source": [
    "# $Header: /u/gcmpack/MITgcm/utils/python/MITgcmutils/MITgcmutils/jmd95.py,v 1.1 2012/10/25 23:31:30 jahn Exp $\n",
    "# $Name:  $\n",
    "#\n",
    "# created by mlosch on 2002-08-09\n",
    "# converted to python by jahn on 2010-04-29\n",
    "\n",
    "import sys\n",
    "import numpy as np\n",
    "\n",
    "__doc__ = \"\"\"\n",
    "Density of Sea Water using Jackett and McDougall 1995 (JAOT 12) polynomial\n",
    "Functions:\n",
    "dens :: computes in-situ density from salinity, potential temperature\n",
    "        and pressure\n",
    "\"\"\"\n",
    "\n",
    "# coefficients nonlinear equation of state in pressure coordinates for\n",
    "# 1. density of fresh water at p = 0\n",
    "eosJMDCFw = [ 999.842594,\n",
    "              6.793952e-02,\n",
    "           -  9.095290e-03,\n",
    "              1.001685e-04,\n",
    "           -  1.120083e-06,\n",
    "              6.536332e-09,\n",
    "            ]\n",
    "# 2. density of sea water at p = 0\n",
    "eosJMDCSw = [     8.244930e-01,\n",
    "               -  4.089900e-03,\n",
    "                  7.643800e-05,\n",
    "               -  8.246700e-07,\n",
    "                  5.387500e-09,\n",
    "               -  5.724660e-03,\n",
    "                  1.022700e-04,\n",
    "               -  1.654600e-06,\n",
    "                  4.831400e-04,\n",
    "            ]\n",
    "# coefficients in pressure coordinates for\n",
    "# 3. secant bulk modulus K of fresh water at p = 0\n",
    "eosJMDCKFw = [    1.965933e+04,\n",
    "                  1.444304e+02,\n",
    "                - 1.706103e+00,\n",
    "                  9.648704e-03,\n",
    "                - 4.190253e-05,\n",
    "             ]\n",
    "# 4. secant bulk modulus K of sea water at p = 0\n",
    "eosJMDCKSw = [    5.284855e+01,\n",
    "                - 3.101089e-01,\n",
    "                  6.283263e-03,\n",
    "                - 5.084188e-05,\n",
    "                  3.886640e-01,\n",
    "                  9.085835e-03,\n",
    "                - 4.619924e-04,\n",
    "             ]\n",
    "# 5. secant bulk modulus K of sea water at p\n",
    "eosJMDCKP = [     3.186519e+00,\n",
    "                  2.212276e-02,\n",
    "                - 2.984642e-04,\n",
    "                  1.956415e-06,\n",
    "                  6.704388e-03,\n",
    "                - 1.847318e-04,\n",
    "                  2.059331e-07,\n",
    "                  1.480266e-04,\n",
    "                  2.102898e-04,\n",
    "                - 1.202016e-05,\n",
    "                  1.394680e-07,\n",
    "                - 2.040237e-06,\n",
    "                  6.128773e-08,\n",
    "                  6.207323e-10,\n",
    "            ]\n",
    "\n",
    "def densjmd95(s,theta,p):\n",
    "    \"\"\"\n",
    "    densjmd95    Density of sea water\n",
    "   =========================================================================\n",
    "    USAGE:  dens = densjmd95(s,theta,p)\n",
    "    DESCRIPTION:\n",
    "       Density of Sea Water using Jackett and McDougall 1995 (JAOT 12)\n",
    "       polynomial (modified UNESCO polynomial).\n",
    "    INPUT:  (all must have same dimensions)\n",
    "      S     = salinity    [psu      (PSS-78)]\n",
    "      Theta = potential temperature [degree C (IPTS-68)]\n",
    "      P     = pressure    [dbar]\n",
    "          (P may have dims 1x1, mx1, 1xn or mxn for S(mxn) )\n",
    "    OUTPUT:\n",
    "      dens = density  [kg/m^3]\n",
    "    AUTHOR:  Martin Losch 2002-08-09  (mlosch@mit.edu)\n",
    "    check value\n",
    "    S     = 35.5 PSU\n",
    "    Theta = 3 degC\n",
    "    P     = 3000 dbar\n",
    "    rho   = 1041.83267 kg/m^3\n",
    "    Jackett and McDougall, 1995, JAOT 12(4), pp. 381-388\n",
    "    \"\"\"\n",
    "\n",
    "    # make sure arguments are floating point\n",
    "    s = np.asfarray(s)\n",
    "    t = np.asfarray(theta)\n",
    "    p = np.asfarray(p)\n",
    "\n",
    "    # convert pressure to bar\n",
    "    p = .1*p\n",
    "\n",
    "    t2 = t*t\n",
    "    t3 = t2*t\n",
    "    t4 = t3*t\n",
    "\n",
    "    if np.any(s<0):\n",
    "        sys.stderr.write('negative salinity values! setting to nan\\n')\n",
    "\n",
    "            \n",
    "    s3o2 = s*np.sqrt(s)\n",
    "\n",
    "    # density of freshwater at the surface\n",
    "    rho = ( eosJMDCFw[0]\n",
    "          + eosJMDCFw[1]*t\n",
    "          + eosJMDCFw[2]*t2\n",
    "          + eosJMDCFw[3]*t3\n",
    "          + eosJMDCFw[4]*t4\n",
    "          + eosJMDCFw[5]*t4*t\n",
    "          )\n",
    "    # density of sea water at the surface\n",
    "    rho = ( rho\n",
    "           + s*(\n",
    "                 eosJMDCSw[0]\n",
    "               + eosJMDCSw[1]*t\n",
    "               + eosJMDCSw[2]*t2\n",
    "               + eosJMDCSw[3]*t3\n",
    "               + eosJMDCSw[4]*t4\n",
    "               )\n",
    "           + s3o2*(\n",
    "                 eosJMDCSw[5]\n",
    "               + eosJMDCSw[6]*t\n",
    "               + eosJMDCSw[7]*t2\n",
    "               )\n",
    "           + eosJMDCSw[8]*s*s\n",
    "          )\n",
    "\n",
    "    rho = rho / (1. - p/bulkmodjmd95(s,t,p))\n",
    "\n",
    "    return rho\n",
    "\n",
    "\n",
    "def bulkmodjmd95(s,theta,p):\n",
    "    \"\"\" bulkmod = bulkmodjmd95(s,theta,p)\n",
    "    \"\"\"\n",
    "    # make sure arguments are floating point\n",
    "    s = np.asfarray(s)\n",
    "    t = np.asfarray(theta)\n",
    "    p = np.asfarray(p)\n",
    "\n",
    "    t2 = t*t\n",
    "    t3 = t2*t\n",
    "    t4 = t3*t\n",
    "\n",
    "    s3o2 = s*np.sqrt(s)\n",
    "\n",
    "    #p = pressure(i,j,k,bi,bj)*SItoBar\n",
    "    p2 = p*p\n",
    "    # secant bulk modulus of fresh water at the surface\n",
    "    bulkmod = ( eosJMDCKFw[0]\n",
    "              + eosJMDCKFw[1]*t\n",
    "              + eosJMDCKFw[2]*t2\n",
    "              + eosJMDCKFw[3]*t3\n",
    "              + eosJMDCKFw[4]*t4\n",
    "              )\n",
    "    # secant bulk modulus of sea water at the surface\n",
    "    bulkmod = ( bulkmod\n",
    "              + s*(      eosJMDCKSw[0]\n",
    "                       + eosJMDCKSw[1]*t\n",
    "                       + eosJMDCKSw[2]*t2\n",
    "                       + eosJMDCKSw[3]*t3\n",
    "                       )\n",
    "              + s3o2*(   eosJMDCKSw[4]\n",
    "                       + eosJMDCKSw[5]*t\n",
    "                       + eosJMDCKSw[6]*t2\n",
    "                       )\n",
    "               )\n",
    "    # secant bulk modulus of sea water at pressure p\n",
    "    bulkmod = ( bulkmod\n",
    "              + p*(   eosJMDCKP[0]\n",
    "                    + eosJMDCKP[1]*t\n",
    "                    + eosJMDCKP[2]*t2\n",
    "                    + eosJMDCKP[3]*t3\n",
    "                  )\n",
    "              + p*s*(   eosJMDCKP[4]\n",
    "                      + eosJMDCKP[5]*t\n",
    "                      + eosJMDCKP[6]*t2\n",
    "                    )\n",
    "              + p*s3o2*eosJMDCKP[7]\n",
    "              + p2*(   eosJMDCKP[8]\n",
    "                     + eosJMDCKP[9]*t\n",
    "                     + eosJMDCKP[10]*t2\n",
    "                   )\n",
    "              + p2*s*(  eosJMDCKP[11]\n",
    "                      + eosJMDCKP[12]*t\n",
    "                      + eosJMDCKP[13]*t2\n",
    "                     )\n",
    "               )\n",
    "\n",
    "    return bulkmod\n",
    "\n",
    "dens = densjmd95"
   ]
  },
  {
   "cell_type": "code",
   "execution_count": 18,
   "metadata": {
    "collapsed": false
   },
   "outputs": [
    {
     "name": "stderr",
     "output_type": "stream",
     "text": [
      "/nbhome/eay/anaconda3/lib/python3.6/site-packages/ipykernel/__main__.py:29: RuntimeWarning: invalid value encountered in less\n"
     ]
    },
    {
     "name": "stdout",
     "output_type": "stream",
     "text": [
      "0\n",
      "1\n",
      "2\n",
      "3\n",
      "4\n",
      "5\n",
      "6\n",
      "7\n",
      "8\n",
      "9\n",
      "10\n",
      "11\n",
      "12\n",
      "13\n",
      "14\n",
      "15\n",
      "16\n",
      "17\n",
      "18\n",
      "19\n",
      "20\n",
      "21\n",
      "22\n",
      "23\n",
      "24\n",
      "25\n",
      "26\n",
      "27\n",
      "28\n",
      "29\n",
      "30\n",
      "31\n",
      "32\n",
      "33\n",
      "34\n",
      "35\n",
      "36\n",
      "37\n",
      "38\n",
      "39\n",
      "40\n",
      "41\n",
      "42\n",
      "43\n",
      "44\n",
      "45\n",
      "46\n",
      "47\n",
      "48\n",
      "49\n",
      "50\n",
      "51\n",
      "52\n",
      "53\n",
      "54\n",
      "55\n",
      "56\n",
      "57\n",
      "58\n",
      "59\n",
      "60\n",
      "61\n",
      "62\n",
      "63\n",
      "64\n",
      "65\n",
      "66\n",
      "67\n",
      "68\n",
      "69\n",
      "70\n",
      "71\n",
      "72\n",
      "73\n",
      "74\n",
      "75\n",
      "76\n",
      "77\n",
      "78\n",
      "79\n",
      "80\n",
      "81\n",
      "82\n",
      "83\n",
      "84\n",
      "85\n",
      "86\n",
      "87\n",
      "88\n",
      "89\n",
      "90\n",
      "91\n",
      "92\n",
      "93\n",
      "94\n",
      "95\n",
      "96\n",
      "97\n",
      "98\n",
      "99\n",
      "100\n",
      "101\n",
      "102\n",
      "103\n",
      "104\n",
      "105\n",
      "106\n",
      "107\n",
      "108\n",
      "109\n",
      "110\n",
      "111\n",
      "112\n",
      "113\n",
      "114\n",
      "115\n",
      "116\n",
      "117\n",
      "118\n",
      "119\n",
      "120\n",
      "121\n",
      "122\n",
      "123\n",
      "124\n",
      "125\n",
      "126\n",
      "127\n",
      "128\n",
      "129\n",
      "130\n",
      "131\n",
      "132\n",
      "133\n",
      "134\n",
      "135\n",
      "136\n",
      "137\n",
      "138\n",
      "139\n",
      "140\n",
      "141\n",
      "142\n",
      "143\n",
      "144\n",
      "145\n",
      "146\n",
      "147\n",
      "148\n",
      "149\n",
      "150\n",
      "151\n",
      "152\n",
      "153\n",
      "154\n",
      "155\n",
      "156\n",
      "157\n",
      "158\n",
      "159\n",
      "160\n",
      "161\n",
      "162\n",
      "163\n",
      "164\n",
      "165\n",
      "166\n",
      "167\n",
      "168\n",
      "169\n",
      "170\n",
      "171\n",
      "172\n",
      "173\n",
      "174\n",
      "175\n",
      "176\n",
      "177\n",
      "178\n",
      "179\n",
      "180\n",
      "181\n",
      "182\n",
      "183\n",
      "184\n",
      "185\n",
      "186\n",
      "187\n",
      "188\n",
      "189\n",
      "190\n",
      "191\n",
      "192\n",
      "193\n",
      "194\n",
      "195\n",
      "196\n",
      "197\n",
      "198\n",
      "199\n",
      "200\n",
      "201\n",
      "202\n",
      "203\n",
      "204\n",
      "205\n",
      "206\n",
      "207\n",
      "208\n",
      "209\n",
      "210\n",
      "211\n",
      "212\n",
      "213\n",
      "214\n",
      "215\n",
      "216\n",
      "217\n",
      "218\n",
      "219\n",
      "220\n",
      "221\n",
      "222\n",
      "223\n",
      "224\n",
      "225\n",
      "226\n",
      "227\n",
      "228\n",
      "229\n",
      "230\n",
      "231\n",
      "232\n",
      "233\n",
      "234\n",
      "235\n",
      "236\n",
      "237\n",
      "238\n",
      "239\n"
     ]
    }
   ],
   "source": [
    "g=9.81; rho_o=1028.00; f=1.43e-4;\n",
    "\n",
    "dx=np.diff(xq); dxmat=np.tile(dx,[480,1])\n",
    "dz=np.diff(zl); dzmat=np.tile(dz,[2560,1]); dzmat=np.transpose(dzmat)\n",
    "\n",
    "#EPV1=np.zeros(719); EPV2=np.zeros(719); EPV3=np.zeros(719);\n",
    "EPVsum=np.zeros(240)\n",
    "EPVsumneg=np.zeros(240)\n",
    "\n",
    "for i in range (0,240):\n",
    "    tempi=np.array(temp[i,:,:]); \n",
    "    salti=np.array(salt[i,:,:]); \n",
    "    vi=np.squeeze(np.array(v[i,:,:]))\n",
    "    dens = densjmd95(salti,tempi,0)\n",
    "    dens[salti==0]=np.nan;\n",
    "    vi[salti==0]=np.nan;\n",
    "\n",
    "    drhodx=np.diff(dens,axis=1)/dxmat\n",
    "    drhodz=np.diff(dens,axis=0)/dzmat\n",
    "    dvdx=np.diff(vi,axis=1)/dxmat\n",
    "    dvdz=np.diff(vi,axis=0)/dzmat\n",
    "\n",
    "    drhodx=drhodx[0:479,0:2559];\n",
    "    drhodz=drhodz[0:479,0:2559];\n",
    "    dvdx=dvdx[0:479,0:2559];\n",
    "    dvdz=dvdz[0:479,0:2559];\n",
    "    EPV=(g/rho_o)*(drhodx*dvdz)-(g/rho_o)*drhodz*(dvdx+f)\n",
    "    EPVsum[i]=np.nansum(EPV)\n",
    "    EPVsumneg[i]=np.nansum(EPV[EPV<0])\n",
    "    #EPV1[i]=EPV[400,1430]\n",
    "    #EPV2[i]=EPV[400,1480]\n",
    "    #EPV3[i]=EPV[400,1530]\n",
    "      \n",
    "    print(i)"
   ]
  },
  {
   "cell_type": "code",
   "execution_count": null,
   "metadata": {
    "collapsed": false
   },
   "outputs": [],
   "source": []
  },
  {
   "cell_type": "code",
   "execution_count": null,
   "metadata": {
    "collapsed": false
   },
   "outputs": [],
   "source": []
  },
  {
   "cell_type": "code",
   "execution_count": 24,
   "metadata": {
    "collapsed": false
   },
   "outputs": [
    {
     "data": {
      "text/plain": [
       "(0.0002, 0.001)"
      ]
     },
     "execution_count": 24,
     "metadata": {},
     "output_type": "execute_result"
    },
    {
     "data": {
      "image/png": "[encoded data removed]",
      "text/plain": [
       "<Figure size 720x560 with 1 Axes>"
      ]
     },
     "metadata": {},
     "output_type": "display_data"
    }
   ],
   "source": [
    "#plt.clear()\n",
    "fig = plt.figure(figsize=(9, 7), dpi= 80, facecolor='w', edgecolor='k')\n",
    "ax1 = fig.add_axes([0.15,0.1,0.7,0.7])  #left pos. bottom pos. width, height #ax1 = fig.add_subplot(111)\n",
    "\n",
    "\n",
    "plt.plot(np.linspace(0,60,240),EPVsum[0:240],'-*')\n",
    "#plt.plot(np.linspace(40,60,80),EPV2[0:80],'-*')\n",
    "#plt.plot(np.linspace(40,60,80),EPV3[0:80],'-*')\n",
    "plt.grid()\n",
    "ax1.set_xlabel('Days',fontsize=16); \n",
    "ax1.tick_params(labelsize=16); #ax2.tick_params(labelsize=12);\n",
    "\n",
    "#EPVneg=EPV; EPVneg[EPVneg>=0]=np.nan;    \n",
    "#quad1 = ax1.pcolormesh(xq/1000,zl,EPVneg,cmap='RdBu_r',vmin=-1e-20,vmax=1e-10,shading='goaround')\n",
    "#cb1 = fig.colorbar(quad1,ax2)\n",
    "ax1.set_title('Ertel PV [1/s$^3$]', fontsize=14)\n",
    "\n",
    "#ax1.set_ylim(-0.00007,0)\n",
    "ax1.set_ylim(0.0002,0.001)\n",
    "#ax1.set_xlim(000,400)\n",
    "#plt.savefig('index%.3d'%i)\n"
   ]
  },
  {
   "cell_type": "code",
   "execution_count": 9,
   "metadata": {
    "collapsed": false
   },
   "outputs": [
    {
     "name": "stdout",
     "output_type": "stream",
     "text": [
      "0\n"
     ]
    },
    {
     "name": "stderr",
     "output_type": "stream",
     "text": [
      "/nbhome/eay/anaconda3/lib/python3.6/site-packages/ipykernel/__main__.py:25: RuntimeWarning: invalid value encountered in less\n",
      "/nbhome/eay/anaconda3/lib/python3.6/site-packages/ipykernel/__main__.py:25: RuntimeWarning: invalid value encountered in greater\n"
     ]
    },
    {
     "name": "stdout",
     "output_type": "stream",
     "text": [
      "12\n"
     ]
    }
   ],
   "source": [
    "g=9.81; rho_o=1028.00; f=1.43e-4;\n",
    "\n",
    "dx=np.diff(xq); dxmat=np.tile(dx,[480,1])\n",
    "dz=np.diff(zl); dzmat=np.tile(dz,[2560,1]); dzmat=np.transpose(dzmat)\n",
    "\n",
    "for i in (0,12):\n",
    "    print(i)\n",
    "    tempi=np.array(temp[i,:,:]); \n",
    "    salti=np.array(salt[i,:,:]); \n",
    "    vi=np.squeeze(np.array(v[i,:,:]))\n",
    "    dens = densjmd95(salti,tempi,0)\n",
    "    dens[salti==0]=np.nan;\n",
    "    vi[salti==0]=np.nan;\n",
    "\n",
    "    drhodx=np.diff(dens,axis=1)/dxmat\n",
    "    drhodz=np.diff(dens,axis=0)/dzmat\n",
    "    dvdx=np.diff(vi,axis=1)/dxmat\n",
    "    dvdz=np.diff(vi,axis=0)/dzmat\n",
    "\n",
    "    drhodx=drhodx[0:479,0:2559];\n",
    "    drhodz=drhodz[0:479,0:2559];\n",
    "    dvdx=dvdx[0:479,0:2559];\n",
    "    dvdz=dvdz[0:479,0:2559];\n",
    "    EPV=(g/rho_o)*(drhodx*dvdz)-(g/rho_o)*drhodz*(dvdx+f)\n",
    "    EPV[EPV<0]=-1; EPV[EPV>0]=0;\n",
    "    if i == 0:\n",
    "        EPVnegi=EPV\n",
    "    if i > 0:\n",
    "        EPVnegf=EPV\n",
    "\n"
   ]
  },
  {
   "cell_type": "code",
   "execution_count": 12,
   "metadata": {
    "collapsed": false
   },
   "outputs": [
    {
     "name": "stderr",
     "output_type": "stream",
     "text": [
      "/nbhome/eay/anaconda3/lib/python3.6/site-packages/ipykernel/__main__.py:10: RuntimeWarning: invalid value encountered in greater\n"
     ]
    },
    {
     "data": {
      "image/png": "[encoded data removed]",
      "text/plain": [
       "<Figure size 720x560 with 1 Axes>"
      ]
     },
     "metadata": {},
     "output_type": "display_data"
    }
   ],
   "source": [
    "fig = plt.figure(figsize=(9, 7), dpi= 80, facecolor='w', edgecolor='k')\n",
    "ax1 = fig.add_axes([0.15,0.1,0.7,0.7])  #left pos. bottom pos. width, height #ax1 = fig.add_subplot(111)\n",
    "#ax2 = fig.add_axes([.87, 0.1, 0.05, 0.7])\n",
    "ax1.invert_yaxis\n",
    "\n",
    "quad0= ax1.pcolormesh(xq/1000,zl,mask,cmap='Greys',vmin=0,vmax=2.)\n",
    "ax1.set_xlabel('X Position (km)',fontsize=16); ax1.set_ylabel('Depth (m)',fontsize=16)\n",
    "ax1.tick_params(labelsize=16); #ax2.tick_params(labelsize=12);\n",
    "\n",
    "difference = EPVnegf-EPVnegi; product=EPVnegf*EPVnegi; difference[product>0]=-.3\n",
    "quad1 = ax1.pcolormesh(xq/1000,zl,difference,cmap='RdBu_r',vmin=-1,vmax=1,shading='goaround')\n",
    "#quad2 = ax1.pcolormesh(xq/1000,zl,EPVnegf*EPVnegi*0.5,cmap='RdBu_r',vmin=-1,vmax=1,shading='goaround')\n",
    "\n",
    "ax1.set_title('Ertel PV [1/s$^3$], dt=%2.2f hours' %(i/6), fontsize=14)\n",
    "\n",
    "#ax1.set_ylim(-2500,0)\n",
    "#ax1.set_xlim(0,60)\n",
    "ax1.set_ylim(-2500,-500)\n",
    "ax1.set_xlim(30,60)\n",
    "plt.savefig('index%.3d'%i)\n",
    "\n",
    "#LIGHT BLUE: ORIGINALLY NEGATIVE, FINALLY NEGATIVE\n",
    "#DARK BLUE:  ORIGINALLY POSITIVE, FINALLY NEGATIVE\n",
    "#RED: ORIGINALLY NEGATIVE, FINALLY POSITIVE"
   ]
  },
  {
   "cell_type": "code",
   "execution_count": 49,
   "metadata": {
    "collapsed": false
   },
   "outputs": [
    {
     "data": {
      "image/png": "[encoded data removed]",
      "text/plain": [
       "<Figure size 720x560 with 1 Axes>"
      ]
     },
     "metadata": {},
     "output_type": "display_data"
    }
   ],
   "source": [
    "fig = plt.figure(figsize=(9, 7), dpi= 80, facecolor='w', edgecolor='k')\n",
    "ax1 = fig.add_axes([0.15,0.1,0.7,0.7])  #left pos. bottom pos. width, height #ax1 = fig.add_subplot(111)\n",
    "#ax2 = fig.add_axes([.87, 0.1, 0.05, 0.7])\n",
    "ax1.invert_yaxis\n",
    "\n",
    "quad0= ax1.pcolormesh(xq/1000,zl,mask,cmap='Greys',vmin=0,vmax=2.)\n",
    "ax1.set_xlabel('X Position (km)',fontsize=16); ax1.set_ylabel('Depth (m)',fontsize=16)\n",
    "ax1.tick_params(labelsize=16); #ax2.tick_params(labelsize=12);\n",
    " \n",
    "quad1 = ax1.pcolormesh(xq/1000,zl,EPVnegi,cmap='RdBu_r',vmin=-1,vmax=1,shading='goaround')\n",
    "#cb1 = fig.colorbar(quad1,ax2)\n",
    "ax1.set_title('Ertel PV [1/s$^3$], %2.2f hours' %(i/6), fontsize=14)\n",
    "\n",
    "ax1.set_ylim(-2500,0)\n",
    "ax1.set_xlim(0,60)\n",
    "#ax1.set_ylim(-2500,-500)\n",
    "#ax1.set_xlim(30,60)\n",
    "plt.savefig('index%.3d'%i)"
   ]
  },
  {
   "cell_type": "code",
   "execution_count": 14,
   "metadata": {
    "collapsed": false
   },
   "outputs": [
    {
     "data": {
      "image/png": "[encoded data removed]",
      "text/plain": [
       "<Figure size 720x560 with 1 Axes>"
      ]
     },
     "metadata": {},
     "output_type": "display_data"
    }
   ],
   "source": [
    "fig = plt.figure(figsize=(9, 7), dpi= 80, facecolor='w', edgecolor='k')\n",
    "ax1 = fig.add_axes([0.15,0.1,0.7,0.7])  #left pos. bottom pos. width, height #ax1 = fig.add_subplot(111)\n",
    "#ax2 = fig.add_axes([.87, 0.1, 0.05, 0.7])\n",
    "ax1.invert_yaxis\n",
    "\n",
    "quad0= ax1.pcolormesh(xq/1000,zl,mask,cmap='Greys',vmin=0,vmax=2.)\n",
    "ax1.set_xlabel('X Position (km)',fontsize=16); ax1.set_ylabel('Depth (m)',fontsize=16)\n",
    "ax1.tick_params(labelsize=16); #ax2.tick_params(labelsize=12);\n",
    " \n",
    "quad1 = ax1.pcolormesh(xq/1000,zl,EPVnegf,cmap='RdBu_r',vmin=-1,vmax=1,shading='goaround')\n",
    "#cb1 = fig.colorbar(quad1,ax2)\n",
    "ax1.set_title('Ertel PV [1/s$^3$], %2.2f hours' %(i/6), fontsize=14)\n",
    "\n",
    "ax1.set_ylim(-2500,0)\n",
    "ax1.set_xlim(0,60)\n",
    "plt.savefig('index%.3d'%i)"
   ]
  },
  {
   "cell_type": "code",
   "execution_count": 17,
   "metadata": {
    "collapsed": false
   },
   "outputs": [],
   "source": [
    "test=EPVnegf-EPVnegi; #test[test==0]=100; test[test>0]=np.nan; test[test<0]=np.nan;\n"
   ]
  },
  {
   "cell_type": "code",
   "execution_count": null,
   "metadata": {
    "collapsed": false
   },
   "outputs": [],
   "source": [
    "print(test)"
   ]
  },
  {
   "cell_type": "code",
   "execution_count": null,
   "metadata": {
    "collapsed": false
   },
   "outputs": [],
   "source": [
    "np.min(EPVnegi)"
   ]
  },
  {
   "cell_type": "code",
   "execution_count": null,
   "metadata": {
    "collapsed": false
   },
   "outputs": [],
   "source": []
  },
  {
   "cell_type": "code",
   "execution_count": null,
   "metadata": {
    "collapsed": false
   },
   "outputs": [],
   "source": []
  },
  {
   "cell_type": "code",
   "execution_count": null,
   "metadata": {
    "collapsed": false
   },
   "outputs": [],
   "source": []
  },
  {
   "cell_type": "code",
   "execution_count": null,
   "metadata": {
    "collapsed": false
   },
   "outputs": [],
   "source": []
  },
  {
   "cell_type": "code",
   "execution_count": 17,
   "metadata": {
    "collapsed": false
   },
   "outputs": [
    {
     "name": "stdout",
     "output_type": "stream",
     "text": [
      "-1.0\n",
      "-15003.0\n"
     ]
    }
   ],
   "source": [
    "EPV.shape\n",
    "print(np.nanmin(EPV))\n",
    "print(np.nansum(EPV))"
   ]
  },
  {
   "cell_type": "code",
   "execution_count": null,
   "metadata": {
    "collapsed": false
   },
   "outputs": [],
   "source": []
  },
  {
   "cell_type": "code",
   "execution_count": null,
   "metadata": {
    "collapsed": true
   },
   "outputs": [],
   "source": []
  },
  {
   "cell_type": "code",
   "execution_count": null,
   "metadata": {
    "collapsed": true
   },
   "outputs": [],
   "source": []
  }
 ],
 "metadata": {
  "kernelspec": {
   "display_name": "Python 3",
   "language": "python",
   "name": "python3"
  },
  "language_info": {
   "codemirror_mode": {
    "name": "ipython",
    "version": 3
   },
   "file_extension": ".py",
   "mimetype": "text/x-python",
   "name": "python",
   "nbconvert_exporter": "python",
   "pygments_lexer": "ipython3",
   "version": "3.6.5"
  }
 },
 "nbformat": 4,
 "nbformat_minor": 2
}
